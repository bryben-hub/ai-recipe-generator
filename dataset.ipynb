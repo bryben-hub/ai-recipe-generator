{
  "nbformat": 4,
  "nbformat_minor": 0,
  "metadata": {
    "colab": {
      "provenance": [],
      "authorship_tag": "ABX9TyNcCVNAaWvAkae+X9fbRKGo",
      "include_colab_link": true
    },
    "kernelspec": {
      "name": "python3",
      "display_name": "Python 3"
    },
    "language_info": {
      "name": "python"
    }
  },
  "cells": [
    {
      "cell_type": "markdown",
      "metadata": {
        "id": "view-in-github",
        "colab_type": "text"
      },
      "source": [
        "<a href=\"https://colab.research.google.com/github/bryben-hub/ai-recipe-generator/blob/main/dataset.ipynb\" target=\"_parent\"><img src=\"https://colab.research.google.com/assets/colab-badge.svg\" alt=\"Open In Colab\"/></a>"
      ]
    },
    {
      "cell_type": "code",
      "execution_count": 2,
      "metadata": {
        "colab": {
          "base_uri": "https://localhost:8080/"
        },
        "id": "wESfa8tony13",
        "outputId": "aa17a9a8-1f53-45c6-c16d-9969a064c713"
      },
      "outputs": [
        {
          "output_type": "stream",
          "name": "stdout",
          "text": [
            "Dataset created! Now let's analyze why customers are leaving...\n"
          ]
        }
      ],
      "source": [
        "# Generate realistic customer data\n",
        "import pandas as pd\n",
        "import numpy as np\n",
        "from datetime import datetime, timedelta\n",
        "\n",
        "np.random.seed(42)\n",
        "\n",
        "# Create 10,000 customer records\n",
        "n_customers = 10000\n",
        "\n",
        "# Generate customer data\n",
        "customers = pd.DataFrame({\n",
        "    'customer_id': range(1, n_customers + 1),\n",
        "    'signup_date': pd.date_range(end='2024-12-31', periods=n_customers),\n",
        "    'age': np.random.normal(35, 12, n_customers).astype(int),\n",
        "    'monthly_spend': np.random.exponential(50, n_customers),\n",
        "    'support_tickets': np.random.poisson(2, n_customers),\n",
        "    'last_login_days_ago': np.random.exponential(10, n_customers),\n",
        "    'product_views': np.random.poisson(20, n_customers),\n",
        "    'subscription_type': np.random.choice(['Basic', 'Pro', 'Enterprise'], n_customers, p=[0.6, 0.3, 0.1]),\n",
        "    'churned': np.random.choice([0, 1], n_customers, p=[0.75, 0.25])\n",
        "})\n",
        "\n",
        "# Save it\n",
        "customers.to_csv('customer_data.csv', index=False)\n",
        "print(\"Dataset created! Now let's analyze why customers are leaving...\")"
      ]
    }
  ]
}